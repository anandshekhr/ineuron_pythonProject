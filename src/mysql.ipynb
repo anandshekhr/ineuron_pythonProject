{
 "cells": [
  {
   "cell_type": "code",
   "execution_count": 1,
   "metadata": {},
   "outputs": [],
   "source": [
    "from sqlite3 import Cursor\n",
    "from selenium import webdriver\n",
    "from bs4 import BeautifulSoup as bs\n",
    "from urllib.request import urlopen as urReq\n",
    "import requests, mysql, pymongo, time, os\n",
    "import mysql.connector as conn\n"
   ]
  },
  {
   "cell_type": "code",
   "execution_count": 2,
   "metadata": {},
   "outputs": [],
   "source": [
    "    \n",
    "class mysqlConnection:\n",
    "    \"\"\"\n",
    "    Class for mysql query selection, table creation, table schema\n",
    "    \n",
    "    Keyword arguments:\n",
    "    hostname -- hostname of mysql\n",
    "    username -- username of mysql user\n",
    "    password -- password\"\"\"\n",
    "    \n",
    "    def __init__(self,hostname: str,username: str, password: str):\n",
    "        self.hostname = hostname\n",
    "        self.username = username\n",
    "        self.password = password\n",
    "        \n",
    "    def mydbConnect(self):\n",
    "        \"\"\"\n",
    "        Connection to MySQL Database\n",
    "        Return: connection string to console\n",
    "        \"\"\"\n",
    "        try:\n",
    "            self.mydb = conn.connect(host= self.hostname,user= self.username,passwd = self.password)\n",
    "            return self.mydb\n",
    "        except:\n",
    "            return \"Not connected\"\n",
    "        \n",
    "    def createdatabase(self,dbname: str):\n",
    "        \"\"\"\n",
    "        Create new Database in MySQL, if does not exists previously in mysql. No two databases can have one name. \n",
    "        \n",
    "        Keyword arguments:\n",
    "        dbname -- as unique name for the database\n",
    "        Return: True if success(if created a new database)\n",
    "                Existed,True (if database not created because it existed previously, use given database if existed)\n",
    "        \"\"\"\n",
    "        \n",
    "        \n",
    "        try:\n",
    "            self.cursor = self.mydb.cursor()\n",
    "            self.cursor.execute(\"create database IF NOT EXISTS {}\".format(dbname))\n",
    "            self.cursor.execute('use {}'.format(dbname))\n",
    "            return True\n",
    "        \n",
    "        except MySQLInterfaceError:\n",
    "            self.cursor.execute('use {}'.format(dbname))\n",
    "            return (\"Existed\",True)\n",
    "        \n",
    "    \n",
    "    def createtablewithschema(self,args,tablename):\n",
    "        \"\"\"\n",
    "        Create Table in the database with given schemas as arguments\n",
    "        \n",
    "        Keyword arguments:\n",
    "        args  = Schemas for table enclosed in parenthesis as single string\n",
    "        tablename  = tablename\n",
    "        Return: True if success\n",
    "        \"\"\"\n",
    "        try:\n",
    "            self.cursor.execute('create table {} {}'.format(tablename,args))\n",
    "            return True\n",
    "        except MySQLInterfaceError as err:\n",
    "            return (\"Something went wrong\",err)\n",
    "    \n",
    "    def drop(self,dbname = None,tname = None):\n",
    "        \"\"\"\n",
    "        Drop extra table or Database created. \n",
    "        \n",
    "        Keyword arguments:\n",
    "        dbname -- Name of the Database to be deleted (Optional)\n",
    "        tname -- Name of the Table to be deleted (Optional)\n",
    "        Return: True if success\n",
    "        \"\"\"\n",
    "        \n",
    "        if dbname is not None:\n",
    "            try:\n",
    "                self.cursor.execute(\"drop database {}\".format(dbname))\n",
    "                return True\n",
    "            except MySQLInterfaceError:\n",
    "                return \"Database does not exists\"\n",
    "        \n",
    "        elif tname is not None:\n",
    "            try:\n",
    "                self.cursor.execute(\"drop table IF EXISTS {} RESTRICT\".format(tname))\n",
    "                return True\n",
    "            except MySQLInterfaceError:\n",
    "                return \"Table does not exists\"\n",
    "        else:\n",
    "            pass\n",
    "        \n",
    "    def insertintotable(self,tablename,values):\n",
    "        \"\"\"\n",
    "        insert values into table, keep values as single string enclosed with parentheses\n",
    "        \n",
    "        Keyword arguments:\n",
    "        tablename -- as table name\n",
    "        values -- as values to be inserted for single row\n",
    "        Return: True if success\n",
    "        \"\"\"\n",
    "        try:\n",
    "            self.cursor.execute(\"insert into {} values {}\".format(tablename,values))\n",
    "            self.mydb.commit()\n",
    "            return True\n",
    "        \n",
    "        except MySQLInterfaceError as err:\n",
    "            return (\"Something went wrong\",err)\n",
    "    \n",
    "    def mysqlcommands(self,command: str):\n",
    "        \"\"\"\n",
    "        for any other command used in mysql, just enter the command string format \n",
    "        \n",
    "        Keyword arguments:\n",
    "        command -- mysql command in single string \n",
    "        Return: values returned\n",
    "        \"\"\"\n",
    "        try:\n",
    "            self.cursor.execute(command)\n",
    "            self.mydb.commit()\n",
    "            return True\n",
    "        \n",
    "        except MySQLInterfaceError as err:\n",
    "            return (\"Something went wrong\",err)"
   ]
  },
  {
   "cell_type": "code",
   "execution_count": 3,
   "metadata": {},
   "outputs": [],
   "source": [
    "a = mysqlConnection('localhost','root','Shekhar123#')"
   ]
  },
  {
   "cell_type": "code",
   "execution_count": 4,
   "metadata": {},
   "outputs": [
    {
     "data": {
      "text/plain": [
       "<mysql.connector.connection_cext.CMySQLConnection at 0x202ae651b10>"
      ]
     },
     "execution_count": 4,
     "metadata": {},
     "output_type": "execute_result"
    }
   ],
   "source": [
    "a.mydbConnect()"
   ]
  },
  {
   "cell_type": "code",
   "execution_count": 5,
   "metadata": {},
   "outputs": [
    {
     "data": {
      "text/plain": [
       "True"
      ]
     },
     "execution_count": 5,
     "metadata": {},
     "output_type": "execute_result"
    }
   ],
   "source": [
    "a.createdatabase('shekharTEST2')"
   ]
  },
  {
   "cell_type": "code",
   "execution_count": 6,
   "metadata": {},
   "outputs": [
    {
     "data": {
      "text/plain": [
       "True"
      ]
     },
     "execution_count": 6,
     "metadata": {},
     "output_type": "execute_result"
    }
   ],
   "source": [
    "a.createtablewithschema('(sno int,name varchar(10),class varchar(10))',tablename='shkehartable')"
   ]
  },
  {
   "cell_type": "code",
   "execution_count": 69,
   "metadata": {},
   "outputs": [],
   "source": [
    "# def fwa(*args):\n",
    "#     for name in args:\n",
    "#         print(name)"
   ]
  },
  {
   "cell_type": "code",
   "execution_count": 71,
   "metadata": {},
   "outputs": [
    {
     "name": "stdout",
     "output_type": "stream",
     "text": [
      "('anand', 'shekhar', 'chalu', 'ldki')\n"
     ]
    }
   ],
   "source": [
    "# fwa( ('anand','shekhar','chalu','ldki'))"
   ]
  },
  {
   "cell_type": "code",
   "execution_count": 31,
   "metadata": {},
   "outputs": [
    {
     "data": {
      "text/plain": [
       "True"
      ]
     },
     "execution_count": 31,
     "metadata": {},
     "output_type": "execute_result"
    }
   ],
   "source": [
    "a.insertintotable('shkehartable',\"(1,'anand','mtech')\")"
   ]
  },
  {
   "cell_type": "code",
   "execution_count": 12,
   "metadata": {},
   "outputs": [],
   "source": [
    "a.mysqlcommands(\"insert into shkehartable values (1,'anand','mtech')\")"
   ]
  },
  {
   "cell_type": "code",
   "execution_count": 18,
   "metadata": {},
   "outputs": [
    {
     "data": {
      "text/plain": [
       "True"
      ]
     },
     "execution_count": 18,
     "metadata": {},
     "output_type": "execute_result"
    }
   ],
   "source": [
    "a.mysqlcommands(\"insert into shkehartable values (1,'anand','mtech')\")"
   ]
  },
  {
   "cell_type": "code",
   "execution_count": 9,
   "metadata": {},
   "outputs": [],
   "source": [
    "import mysqlquery"
   ]
  },
  {
   "cell_type": "code",
   "execution_count": 11,
   "metadata": {},
   "outputs": [],
   "source": [
    "mc = mysqlConnection('localhost','root','Shekhar123#')"
   ]
  },
  {
   "cell_type": "code",
   "execution_count": 13,
   "metadata": {},
   "outputs": [
    {
     "data": {
      "text/plain": [
       "<mysql.connector.connection_cext.CMySQLConnection at 0x202b1161c60>"
      ]
     },
     "execution_count": 13,
     "metadata": {},
     "output_type": "execute_result"
    }
   ],
   "source": [
    "mc.mydbConnect()"
   ]
  },
  {
   "cell_type": "code",
   "execution_count": 28,
   "metadata": {},
   "outputs": [
    {
     "data": {
      "text/plain": [
       "True"
      ]
     },
     "execution_count": 28,
     "metadata": {},
     "output_type": "execute_result"
    }
   ],
   "source": [
    "mc.createdatabase('ineuronpythonprojectdb')"
   ]
  },
  {
   "cell_type": "code",
   "execution_count": 19,
   "metadata": {},
   "outputs": [
    {
     "data": {
      "text/plain": [
       "True"
      ]
     },
     "execution_count": 19,
     "metadata": {},
     "output_type": "execute_result"
    }
   ],
   "source": [
    "mc.createtablewithschema('(id int,videotitle varchar(255),totalviews varchar(255),videourl varchar(255),thumbnail varchar(255))',tablename='youtuberstable')"
   ]
  },
  {
   "cell_type": "code",
   "execution_count": 34,
   "metadata": {},
   "outputs": [
    {
     "data": {
      "text/plain": [
       "True"
      ]
     },
     "execution_count": 34,
     "metadata": {},
     "output_type": "execute_result"
    }
   ],
   "source": [
    "mc.drop(tname='youtuberstable')"
   ]
  },
  {
   "cell_type": "code",
   "execution_count": 33,
   "metadata": {},
   "outputs": [
    {
     "data": {
      "text/plain": [
       "True"
      ]
     },
     "execution_count": 33,
     "metadata": {},
     "output_type": "execute_result"
    }
   ],
   "source": [
    "mc.insertintotable('youtuberstable',\"(47,'Announcing Job Guaranteed Big Data Bootcamp @iNeuron Intelligence @E-Learning Bridge','12K views','https://www.youtube.com/watch?v=DIvvHPO1Tyo','None')\")\n"
   ]
  },
  {
   "cell_type": "code",
   "execution_count": null,
   "metadata": {},
   "outputs": [],
   "source": []
  }
 ],
 "metadata": {
  "kernelspec": {
   "display_name": "Python 3.10.6 ('.env': venv)",
   "language": "python",
   "name": "python3"
  },
  "language_info": {
   "codemirror_mode": {
    "name": "ipython",
    "version": 3
   },
   "file_extension": ".py",
   "mimetype": "text/x-python",
   "name": "python",
   "nbconvert_exporter": "python",
   "pygments_lexer": "ipython3",
   "version": "3.10.6"
  },
  "vscode": {
   "interpreter": {
    "hash": "c3bcee02512a63e35babf2989ec7eedc87e5baba6835f0d68b8464cc09b93d2d"
   }
  }
 },
 "nbformat": 4,
 "nbformat_minor": 4
}
