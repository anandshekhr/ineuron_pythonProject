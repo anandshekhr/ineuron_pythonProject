{
 "cells": [
  {
   "cell_type": "code",
   "execution_count": 105,
   "metadata": {},
   "outputs": [
    {
     "name": "stdout",
     "output_type": "stream",
     "text": [
      "Requirement already satisfied: astroid==2.12.4 in c:\\users\\shekhar's\\desktop\\ineuron\\python_project_oneplus\\.env\\lib\\site-packages (from -r requirements.txt (line 1)) (2.12.4)\n",
      "Requirement already satisfied: async-generator==1.10 in c:\\users\\shekhar's\\desktop\\ineuron\\python_project_oneplus\\.env\\lib\\site-packages (from -r requirements.txt (line 2)) (1.10)\n",
      "Requirement already satisfied: attrs==22.1.0 in c:\\users\\shekhar's\\desktop\\ineuron\\python_project_oneplus\\.env\\lib\\site-packages (from -r requirements.txt (line 3)) (22.1.0)\n",
      "Requirement already satisfied: beautifulsoup4==4.11.1 in c:\\users\\shekhar's\\desktop\\ineuron\\python_project_oneplus\\.env\\lib\\site-packages (from -r requirements.txt (line 4)) (4.11.1)\n",
      "Requirement already satisfied: bs4==0.0.1 in c:\\users\\shekhar's\\desktop\\ineuron\\python_project_oneplus\\.env\\lib\\site-packages (from -r requirements.txt (line 5)) (0.0.1)\n",
      "Requirement already satisfied: certifi==2022.6.15 in c:\\users\\shekhar's\\desktop\\ineuron\\python_project_oneplus\\.env\\lib\\site-packages (from -r requirements.txt (line 6)) (2022.6.15)\n",
      "Requirement already satisfied: cffi==1.15.1 in c:\\users\\shekhar's\\desktop\\ineuron\\python_project_oneplus\\.env\\lib\\site-packages (from -r requirements.txt (line 7)) (1.15.1)\n",
      "Requirement already satisfied: charset-normalizer==2.1.1 in c:\\users\\shekhar's\\desktop\\ineuron\\python_project_oneplus\\.env\\lib\\site-packages (from -r requirements.txt (line 8)) (2.1.1)\n",
      "Requirement already satisfied: click==8.1.3 in c:\\users\\shekhar's\\desktop\\ineuron\\python_project_oneplus\\.env\\lib\\site-packages (from -r requirements.txt (line 9)) (8.1.3)\n",
      "Requirement already satisfied: colorama==0.4.5 in c:\\users\\shekhar's\\desktop\\ineuron\\python_project_oneplus\\.env\\lib\\site-packages (from -r requirements.txt (line 10)) (0.4.5)\n",
      "Requirement already satisfied: dill==0.3.5.1 in c:\\users\\shekhar's\\desktop\\ineuron\\python_project_oneplus\\.env\\lib\\site-packages (from -r requirements.txt (line 11)) (0.3.5.1)\n",
      "Requirement already satisfied: Flask==2.2.2 in c:\\users\\shekhar's\\desktop\\ineuron\\python_project_oneplus\\.env\\lib\\site-packages (from -r requirements.txt (line 12)) (2.2.2)\n",
      "Requirement already satisfied: Flask-Cors==3.0.10 in c:\\users\\shekhar's\\desktop\\ineuron\\python_project_oneplus\\.env\\lib\\site-packages (from -r requirements.txt (line 13)) (3.0.10)\n",
      "Requirement already satisfied: h11==0.13.0 in c:\\users\\shekhar's\\desktop\\ineuron\\python_project_oneplus\\.env\\lib\\site-packages (from -r requirements.txt (line 14)) (0.13.0)\n",
      "Requirement already satisfied: idna==3.3 in c:\\users\\shekhar's\\desktop\\ineuron\\python_project_oneplus\\.env\\lib\\site-packages (from -r requirements.txt (line 15)) (3.3)\n",
      "Requirement already satisfied: isort==5.10.1 in c:\\users\\shekhar's\\desktop\\ineuron\\python_project_oneplus\\.env\\lib\\site-packages (from -r requirements.txt (line 16)) (5.10.1)\n",
      "Requirement already satisfied: itsdangerous==2.1.2 in c:\\users\\shekhar's\\desktop\\ineuron\\python_project_oneplus\\.env\\lib\\site-packages (from -r requirements.txt (line 17)) (2.1.2)\n",
      "Requirement already satisfied: Jinja2==3.1.2 in c:\\users\\shekhar's\\desktop\\ineuron\\python_project_oneplus\\.env\\lib\\site-packages (from -r requirements.txt (line 18)) (3.1.2)\n",
      "Requirement already satisfied: lazy-object-proxy==1.7.1 in c:\\users\\shekhar's\\desktop\\ineuron\\python_project_oneplus\\.env\\lib\\site-packages (from -r requirements.txt (line 19)) (1.7.1)\n",
      "Requirement already satisfied: MarkupSafe==2.1.1 in c:\\users\\shekhar's\\desktop\\ineuron\\python_project_oneplus\\.env\\lib\\site-packages (from -r requirements.txt (line 20)) (2.1.1)\n",
      "Requirement already satisfied: mccabe==0.7.0 in c:\\users\\shekhar's\\desktop\\ineuron\\python_project_oneplus\\.env\\lib\\site-packages (from -r requirements.txt (line 21)) (0.7.0)\n",
      "Requirement already satisfied: mysql-connector-python==8.0.30 in c:\\users\\shekhar's\\desktop\\ineuron\\python_project_oneplus\\.env\\lib\\site-packages (from -r requirements.txt (line 22)) (8.0.30)\n",
      "Requirement already satisfied: outcome==1.2.0 in c:\\users\\shekhar's\\desktop\\ineuron\\python_project_oneplus\\.env\\lib\\site-packages (from -r requirements.txt (line 23)) (1.2.0)\n",
      "Requirement already satisfied: Pillow==9.2.0 in c:\\users\\shekhar's\\desktop\\ineuron\\python_project_oneplus\\.env\\lib\\site-packages (from -r requirements.txt (line 24)) (9.2.0)\n",
      "Requirement already satisfied: platformdirs==2.5.2 in c:\\users\\shekhar's\\desktop\\ineuron\\python_project_oneplus\\.env\\lib\\site-packages (from -r requirements.txt (line 25)) (2.5.2)\n",
      "Requirement already satisfied: protobuf==3.20.1 in c:\\users\\shekhar's\\desktop\\ineuron\\python_project_oneplus\\.env\\lib\\site-packages (from -r requirements.txt (line 26)) (3.20.1)\n",
      "Requirement already satisfied: pycparser==2.21 in c:\\users\\shekhar's\\desktop\\ineuron\\python_project_oneplus\\.env\\lib\\site-packages (from -r requirements.txt (line 27)) (2.21)\n",
      "Requirement already satisfied: pylint==2.15.0 in c:\\users\\shekhar's\\desktop\\ineuron\\python_project_oneplus\\.env\\lib\\site-packages (from -r requirements.txt (line 28)) (2.15.0)\n",
      "Requirement already satisfied: pymongo==4.2.0 in c:\\users\\shekhar's\\desktop\\ineuron\\python_project_oneplus\\.env\\lib\\site-packages (from -r requirements.txt (line 29)) (4.2.0)\n",
      "Requirement already satisfied: PySocks==1.7.1 in c:\\users\\shekhar's\\desktop\\ineuron\\python_project_oneplus\\.env\\lib\\site-packages (from -r requirements.txt (line 30)) (1.7.1)\n",
      "Requirement already satisfied: requests==2.28.1 in c:\\users\\shekhar's\\desktop\\ineuron\\python_project_oneplus\\.env\\lib\\site-packages (from -r requirements.txt (line 31)) (2.28.1)\n",
      "Requirement already satisfied: selenium==4.4.3 in c:\\users\\shekhar's\\desktop\\ineuron\\python_project_oneplus\\.env\\lib\\site-packages (from -r requirements.txt (line 32)) (4.4.3)\n",
      "Requirement already satisfied: six==1.16.0 in c:\\users\\shekhar's\\desktop\\ineuron\\python_project_oneplus\\.env\\lib\\site-packages (from -r requirements.txt (line 33)) (1.16.0)\n",
      "Requirement already satisfied: sniffio==1.2.0 in c:\\users\\shekhar's\\desktop\\ineuron\\python_project_oneplus\\.env\\lib\\site-packages (from -r requirements.txt (line 34)) (1.2.0)\n",
      "Requirement already satisfied: sortedcontainers==2.4.0 in c:\\users\\shekhar's\\desktop\\ineuron\\python_project_oneplus\\.env\\lib\\site-packages (from -r requirements.txt (line 35)) (2.4.0)\n",
      "Requirement already satisfied: soupsieve==2.3.2.post1 in c:\\users\\shekhar's\\desktop\\ineuron\\python_project_oneplus\\.env\\lib\\site-packages (from -r requirements.txt (line 36)) (2.3.2.post1)\n",
      "Requirement already satisfied: tomli==2.0.1 in c:\\users\\shekhar's\\desktop\\ineuron\\python_project_oneplus\\.env\\lib\\site-packages (from -r requirements.txt (line 37)) (2.0.1)\n",
      "Requirement already satisfied: tomlkit==0.11.4 in c:\\users\\shekhar's\\desktop\\ineuron\\python_project_oneplus\\.env\\lib\\site-packages (from -r requirements.txt (line 38)) (0.11.4)\n",
      "Requirement already satisfied: trio==0.21.0 in c:\\users\\shekhar's\\desktop\\ineuron\\python_project_oneplus\\.env\\lib\\site-packages (from -r requirements.txt (line 39)) (0.21.0)\n",
      "Requirement already satisfied: trio-websocket==0.9.2 in c:\\users\\shekhar's\\desktop\\ineuron\\python_project_oneplus\\.env\\lib\\site-packages (from -r requirements.txt (line 40)) (0.9.2)\n",
      "Requirement already satisfied: urllib3==1.26.12 in c:\\users\\shekhar's\\desktop\\ineuron\\python_project_oneplus\\.env\\lib\\site-packages (from -r requirements.txt (line 41)) (1.26.12)\n",
      "Requirement already satisfied: Werkzeug==2.2.2 in c:\\users\\shekhar's\\desktop\\ineuron\\python_project_oneplus\\.env\\lib\\site-packages (from -r requirements.txt (line 42)) (2.2.2)\n",
      "Requirement already satisfied: wrapt==1.14.1 in c:\\users\\shekhar's\\desktop\\ineuron\\python_project_oneplus\\.env\\lib\\site-packages (from -r requirements.txt (line 43)) (1.14.1)\n",
      "Requirement already satisfied: wsproto==1.2.0 in c:\\users\\shekhar's\\desktop\\ineuron\\python_project_oneplus\\.env\\lib\\site-packages (from -r requirements.txt (line 44)) (1.2.0)\n",
      "Note: you may need to restart the kernel to use updated packages.\n"
     ]
    }
   ],
   "source": [
    "pip install -r requirements.txt\n"
   ]
  },
  {
   "cell_type": "code",
   "execution_count": 106,
   "metadata": {},
   "outputs": [],
   "source": [
    "from flask import Flask, request, jsonify, render_template\n",
    "from flask_cors import CORS, cross_origin\n",
    "from bs4 import BeautifulSoup as bs\n",
    "from urllib.request import urlopen as urReq\n",
    "from selenium import webdriver\n",
    "import requests, mysql, pymongo, time, os"
   ]
  },
  {
   "cell_type": "code",
   "execution_count": 107,
   "metadata": {},
   "outputs": [],
   "source": [
    "DRIVER_PATH = r'chromedriver.exe'"
   ]
  },
  {
   "cell_type": "code",
   "execution_count": 108,
   "metadata": {},
   "outputs": [],
   "source": [
    "# searchText = request.form['searchtext'].replace(\" \",\"+\")\n",
    "driver = webdriver.Chrome()\n",
    "searchURL = \"https://www.youtube.com/results?search_query=krish+naik\"\n",
    "driver.get(searchURL)\n",
    "\n",
    "# requestURL = requests.get(searchURL)\n",
    "# youtubePage = requestURL.read()\n",
    "# requestURL.close()"
   ]
  },
  {
   "cell_type": "code",
   "execution_count": 109,
   "metadata": {},
   "outputs": [],
   "source": [
    "# youtubePage\n",
    "content = driver.page_source.encode('utf-8').strip()\n",
    "soup = bs(content,'html.parser')\n",
    "findChannelSection = soup.find_all('div',id=\"content-section\")"
   ]
  },
  {
   "cell_type": "code",
   "execution_count": 110,
   "metadata": {},
   "outputs": [],
   "source": [
    "# from selenium.webdriver.common.by import By\n",
    "# abc = driver.find_element(By.CSS_SELECTOR,'div.content-section')"
   ]
  },
  {
   "cell_type": "code",
   "execution_count": 111,
   "metadata": {},
   "outputs": [],
   "source": [
    "# abc."
   ]
  },
  {
   "cell_type": "code",
   "execution_count": 112,
   "metadata": {},
   "outputs": [
    {
     "name": "stdout",
     "output_type": "stream",
     "text": [
      "1\n"
     ]
    }
   ],
   "source": [
    "print(len(findChannelSection))"
   ]
  },
  {
   "cell_type": "code",
   "execution_count": 113,
   "metadata": {},
   "outputs": [
    {
     "data": {
      "text/plain": [
       "bs4.element.ResultSet"
      ]
     },
     "execution_count": 113,
     "metadata": {},
     "output_type": "execute_result"
    }
   ],
   "source": [
    "type(findChannelSection)"
   ]
  },
  {
   "cell_type": "code",
   "execution_count": 114,
   "metadata": {},
   "outputs": [
    {
     "name": "stdout",
     "output_type": "stream",
     "text": [
      "/user/krishnaik06\n"
     ]
    }
   ],
   "source": [
    "for tag in findChannelSection:\n",
    "    channelLink = tag.div.a['href']\n",
    "    print(channelLink)"
   ]
  },
  {
   "cell_type": "code",
   "execution_count": 115,
   "metadata": {},
   "outputs": [],
   "source": [
    "channelEmbeddedURL = \"https://www.youtube.com{}/videos?view=0&sort=p&flow=grid\".format(channelLink)"
   ]
  },
  {
   "cell_type": "code",
   "execution_count": 116,
   "metadata": {},
   "outputs": [
    {
     "data": {
      "text/plain": [
       "'https://www.youtube.com/user/krishnaik06/videos?view=0&sort=p&flow=grid'"
      ]
     },
     "execution_count": 116,
     "metadata": {},
     "output_type": "execute_result"
    }
   ],
   "source": [
    "channelEmbeddedURL"
   ]
  },
  {
   "cell_type": "code",
   "execution_count": 117,
   "metadata": {},
   "outputs": [],
   "source": [
    "driver.get(channelEmbeddedURL)\n",
    "# driver.send_keys(Keys.ARROW_DOWN)\n",
    "driver.execute_script(\"window.scrollTo(0,2000);\")\n",
    "time.sleep(1)"
   ]
  },
  {
   "cell_type": "code",
   "execution_count": 118,
   "metadata": {},
   "outputs": [],
   "source": [
    "findChannelPage = driver.page_source.encode('utf-8').strip()\n"
   ]
  },
  {
   "cell_type": "code",
   "execution_count": 119,
   "metadata": {},
   "outputs": [],
   "source": [
    "pageSoup = bs(findChannelPage,'lxml')"
   ]
  },
  {
   "cell_type": "code",
   "execution_count": 120,
   "metadata": {},
   "outputs": [],
   "source": [
    "titles = pageSoup.findAll('a',id=\"video-title\")\n",
    "views = pageSoup.findAll('span',class_=\"style-scope ytd-grid-video-renderer\")\n",
    "\n",
    "channel_details = []\n"
   ]
  },
  {
   "cell_type": "code",
   "execution_count": 128,
   "metadata": {},
   "outputs": [
    {
     "data": {
      "text/plain": [
       "60"
      ]
     },
     "execution_count": 128,
     "metadata": {},
     "output_type": "execute_result"
    }
   ],
   "source": [
    "len(titles)"
   ]
  },
  {
   "cell_type": "code",
   "execution_count": 122,
   "metadata": {},
   "outputs": [],
   "source": [
    "thumbnail = pageSoup.findAll('img',class_=\"style-scope yt-img-shadow\")"
   ]
  },
  {
   "cell_type": "code",
   "execution_count": 123,
   "metadata": {},
   "outputs": [
    {
     "data": {
      "text/plain": [
       "69"
      ]
     },
     "execution_count": 123,
     "metadata": {},
     "output_type": "execute_result"
    }
   ],
   "source": [
    "len(thumbnail)"
   ]
  },
  {
   "cell_type": "code",
   "execution_count": 124,
   "metadata": {},
   "outputs": [],
   "source": [
    "thumb_list = []\n",
    "for thumb in thumbnail[7:]:\n",
    "    thumb_list.append(thumb.get('src'))"
   ]
  },
  {
   "cell_type": "code",
   "execution_count": 125,
   "metadata": {},
   "outputs": [
    {
     "data": {
      "text/plain": [
       "['https://i.ytimg.com/vi/k2P_pHQDlp0/hqdefault.jpg?sqp=-oaymwEcCPYBEIoBSFXyq4qpAw4IARUAAIhCGAFwAcABBg==&rs=AOn4CLBaMLAnbB190v0LBkb5p3ET9k73Nw',\n",
       " 'https://i.ytimg.com/vi/csG_qfOTvxw/hqdefault.jpg?sqp=-oaymwEcCPYBEIoBSFXyq4qpAw4IARUAAIhCGAFwAcABBg==&rs=AOn4CLC3ApsU1Y6EV-S5mLV8vJ8OsJ5roQ',\n",
       " 'https://i.ytimg.com/vi/bPrmA1SEN2k/hqdefault.jpg?sqp=-oaymwEcCPYBEIoBSFXyq4qpAw4IARUAAIhCGAFwAcABBg==&rs=AOn4CLBB8olHjCipKtCvPjUGWZDsdWqTUA',\n",
       " 'https://i.ytimg.com/vi/M-UpXWGxZe4/hqdefault.jpg?sqp=-oaymwEcCPYBEIoBSFXyq4qpAw4IARUAAIhCGAFwAcABBg==&rs=AOn4CLCky1i90z6nTkC_M-MpbZ9Eqw6_3w',\n",
       " 'https://i.ytimg.com/vi/fM4qTMfCoak/hqdefault.jpg?sqp=-oaymwEcCPYBEIoBSFXyq4qpAw4IARUAAIhCGAFwAcABBg==&rs=AOn4CLBAuRaHIENo356042y_sDOa8BKjSg',\n",
       " 'https://i.ytimg.com/vi/4-kDCP0Bor0/hqdefault.jpg?sqp=-oaymwEcCPYBEIoBSFXyq4qpAw4IARUAAIhCGAFwAcABBg==&rs=AOn4CLDtsPugct4nLg7CmJqF3eROw_3rRA',\n",
       " 'https://i.ytimg.com/vi/AuqZ4recf0s/hqdefault.jpg?sqp=-oaymwEcCPYBEIoBSFXyq4qpAw4IARUAAIhCGAFwAcABBg==&rs=AOn4CLAJsUM9HXUciDJStErXSAgUwcn3Nw',\n",
       " 'https://i.ytimg.com/vi/p_tpQSY1aTs/hqdefault.jpg?sqp=-oaymwEcCPYBEIoBSFXyq4qpAw4IARUAAIhCGAFwAcABBg==&rs=AOn4CLDj6LihCi84SRJrREJu0L1Y6Ggtag',\n",
       " 'https://i.ytimg.com/vi/djgtWqkZE84/hqdefault.jpg?sqp=-oaymwEcCPYBEIoBSFXyq4qpAw4IARUAAIhCGAFwAcABBg==&rs=AOn4CLBSimFy-SXhQb4Mg3ORWQUXqDqImQ',\n",
       " 'https://i.ytimg.com/vi/C9eZclkoWSs/hqdefault.jpg?sqp=-oaymwEcCPYBEIoBSFXyq4qpAw4IARUAAIhCGAFwAcABBg==&rs=AOn4CLB9we1UklnpIIj9onmcOF_ags0Law',\n",
       " 'https://i.ytimg.com/vi/lzP14izI4lQ/hqdefault.jpg?sqp=-oaymwEcCPYBEIoBSFXyq4qpAw4IARUAAIhCGAFwAcABBg==&rs=AOn4CLB9hjDWxDk7_IYmnIjKGaB1ZlOObA',\n",
       " 'https://i.ytimg.com/vi/Q6GfF8fB7E4/hqdefault.jpg?sqp=-oaymwEcCPYBEIoBSFXyq4qpAw4IARUAAIhCGAFwAcABBg==&rs=AOn4CLDkNGggtj5VZUiiBAuZv3gk9_ESsA',\n",
       " None,\n",
       " None,\n",
       " None,\n",
       " None,\n",
       " None,\n",
       " None,\n",
       " None,\n",
       " None,\n",
       " None,\n",
       " None,\n",
       " None,\n",
       " None,\n",
       " 'https://i.ytimg.com/vi/H9yACitf-KM/hqdefault.jpg?sqp=-oaymwEcCPYBEIoBSFXyq4qpAw4IARUAAIhCGAFwAcABBg==&rs=AOn4CLCzn6wlPxs9DhqbsEs2H4pi72ldqA',\n",
       " 'https://i.ytimg.com/vi/VOpETRQGXy0/hqdefault.jpg?sqp=-oaymwEcCPYBEIoBSFXyq4qpAw4IARUAAIhCGAFwAcABBg==&rs=AOn4CLD1T9XLp1kUf2uNcswTp0e2TyvGlw',\n",
       " 'https://i.ytimg.com/vi/lP1hb4BFAWA/hqdefault.jpg?sqp=-oaymwEcCPYBEIoBSFXyq4qpAw4IARUAAIhCGAFwAcABBg==&rs=AOn4CLAvcBzSNlEcPe4fHi6_pBeXFZKOxQ',\n",
       " 'https://i.ytimg.com/vi/1DL6w0EUQNs/hqdefault.jpg?sqp=-oaymwEcCPYBEIoBSFXyq4qpAw4IARUAAIhCGAFwAcABBg==&rs=AOn4CLDUoHX6f1SKw66tSJAPRV_6-j-1ug',\n",
       " 'https://i.ytimg.com/vi/1-OGRohmH2s/hqdefault.jpg?sqp=-oaymwEcCPYBEIoBSFXyq4qpAw4IARUAAIhCGAFwAcABBg==&rs=AOn4CLBa6PPcf7aXVNrUhw1GzcFKKGaxlA',\n",
       " 'https://i.ytimg.com/vi/jS1CKhALUBQ/hqdefault.jpg?sqp=-oaymwEcCPYBEIoBSFXyq4qpAw4IARUAAIhCGAFwAcABBg==&rs=AOn4CLCzfQ2X3IHYh-1PH_KrRAkUPwNR2w',\n",
       " 'https://i.ytimg.com/vi/vtm35gVP8JU/hqdefault.jpg?sqp=-oaymwEcCPYBEIoBSFXyq4qpAw4IARUAAIhCGAFwAcABBg==&rs=AOn4CLDt4Rn2gwQPl8V2s17GpSo9lYbjbA',\n",
       " 'https://i.ytimg.com/vi/JG8GRlMjp3c/hqdefault.jpg?sqp=-oaymwEcCPYBEIoBSFXyq4qpAw4IARUAAIhCGAFwAcABBg==&rs=AOn4CLDAfGU3Yxl-V2NwbLgBpurzb5eLWw',\n",
       " 'https://i.ytimg.com/vi/Ea_KAcdv1vs/hqdefault.jpg?sqp=-oaymwEcCPYBEIoBSFXyq4qpAw4IARUAAIhCGAFwAcABBg==&rs=AOn4CLDOnhfWeDi6W_oq4QCHIAicmDNNvw',\n",
       " 'https://i.ytimg.com/vi/UbCWoMf80PY/hqdefault.jpg?sqp=-oaymwEcCPYBEIoBSFXyq4qpAw4IARUAAIhCGAFwAcABBg==&rs=AOn4CLDSjZ9A7Qkkzh5_IQqC66Brt1EbFg',\n",
       " 'https://i.ytimg.com/vi/71oNiqPoKD8/hqdefault.jpg?sqp=-oaymwEcCPYBEIoBSFXyq4qpAw4IARUAAIhCGAFwAcABBg==&rs=AOn4CLANom5EQ77gCk_uLKoeBfB3JzyARQ',\n",
       " 'https://i.ytimg.com/vi/zRUliXuwJCQ/hqdefault.jpg?sqp=-oaymwEcCPYBEIoBSFXyq4qpAw4IARUAAIhCGAFwAcABBg==&rs=AOn4CLDKSCSEgdzvspStpESjq6MbI8vsPQ',\n",
       " 'https://i.ytimg.com/vi/Y3QzLIBp64M/hqdefault.jpg?sqp=-oaymwEcCPYBEIoBSFXyq4qpAw4IARUAAIhCGAFwAcABBg==&rs=AOn4CLCJjSxoM8Tyt1gNEUdxc9v2vos1Ng',\n",
       " 'https://i.ytimg.com/vi/9lRv01HDU0s/hqdefault.jpg?sqp=-oaymwEcCPYBEIoBSFXyq4qpAw4IARUAAIhCGAFwAcABBg==&rs=AOn4CLBfe984QGgwFGWlKzGrJ7JZeQhUsw',\n",
       " 'https://i.ytimg.com/vi/NLRO1-jp5F8/hqdefault.jpg?sqp=-oaymwEcCPYBEIoBSFXyq4qpAw4IARUAAIhCGAFwAcABBg==&rs=AOn4CLAo8RT394bcucIwPVlgJHE-k8QnTg',\n",
       " 'https://i.ytimg.com/vi/mnKm3YP56PY/hqdefault.jpg?sqp=-oaymwEcCPYBEIoBSFXyq4qpAw4IARUAAIhCGAFwAcABBg==&rs=AOn4CLCTT0QEiRCvoOf31gt4nioOJWwtHQ',\n",
       " None,\n",
       " None,\n",
       " None,\n",
       " None,\n",
       " None,\n",
       " None,\n",
       " None,\n",
       " None,\n",
       " None,\n",
       " None,\n",
       " None,\n",
       " None,\n",
       " None,\n",
       " None,\n",
       " None,\n",
       " None,\n",
       " None,\n",
       " None,\n",
       " None,\n",
       " None,\n",
       " None,\n",
       " None]"
      ]
     },
     "execution_count": 125,
     "metadata": {},
     "output_type": "execute_result"
    }
   ],
   "source": [
    "thumb_list"
   ]
  },
  {
   "cell_type": "code",
   "execution_count": 127,
   "metadata": {},
   "outputs": [
    {
     "name": "stdout",
     "output_type": "stream",
     "text": [
      "{'videoTitle': 'AI VS ML VS DL VS Data Science', 'totalViews': '2.2M views', 'videoURL': 'https://www.youtube.com/watch?v=k2P_pHQDlp0', 'thumbnail': 'https://i.ytimg.com/vi/k2P_pHQDlp0/hqdefault.jpg?sqp=-oaymwEcCPYBEIoBSFXyq4qpAw4IARUAAIhCGAFwAcABBg==&rs=AOn4CLBaMLAnbB190v0LBkb5p3ET9k73Nw'}\n",
      "{'videoTitle': 'How To Learn Data Science Smartly?', 'totalViews': '1.4M views', 'videoURL': 'https://www.youtube.com/watch?v=csG_qfOTvxw', 'thumbnail': 'https://i.ytimg.com/vi/csG_qfOTvxw/hqdefault.jpg?sqp=-oaymwEcCPYBEIoBSFXyq4qpAw4IARUAAIhCGAFwAcABBg==&rs=AOn4CLC3ApsU1Y6EV-S5mLV8vJ8OsJ5roQ'}\n",
      "{'videoTitle': 'Complete Road Map To Be Expert In Python- Follow My Way', 'totalViews': '1.3M views', 'videoURL': 'https://www.youtube.com/watch?v=bPrmA1SEN2k', 'thumbnail': 'https://i.ytimg.com/vi/bPrmA1SEN2k/hqdefault.jpg?sqp=-oaymwEcCPYBEIoBSFXyq4qpAw4IARUAAIhCGAFwAcABBg==&rs=AOn4CLBB8olHjCipKtCvPjUGWZDsdWqTUA'}\n",
      "{'videoTitle': 'OTT Platform For Education OneNeuron- Education As A Service', 'totalViews': '730K views', 'videoURL': 'https://www.youtube.com/watch?v=M-UpXWGxZe4', 'thumbnail': 'https://i.ytimg.com/vi/M-UpXWGxZe4/hqdefault.jpg?sqp=-oaymwEcCPYBEIoBSFXyq4qpAw4IARUAAIhCGAFwAcABBg==&rs=AOn4CLCky1i90z6nTkC_M-MpbZ9Eqw6_3w'}\n",
      "{'videoTitle': 'Complete Road Map To Prepare NLP-Follow This Video-You Will Able to Crack Any DS Interviews🔥🔥', 'totalViews': '551K views', 'videoURL': 'https://www.youtube.com/watch?v=fM4qTMfCoak', 'thumbnail': 'https://i.ytimg.com/vi/fM4qTMfCoak/hqdefault.jpg?sqp=-oaymwEcCPYBEIoBSFXyq4qpAw4IARUAAIhCGAFwAcABBg==&rs=AOn4CLBAuRaHIENo356042y_sDOa8BKjSg'}\n",
      "{'videoTitle': \"Negotiating Salaries With HR for Any Job Is An Art. Learn IT Before It's Late 😭😭😭😭\", 'totalViews': '548K views', 'videoURL': 'https://www.youtube.com/watch?v=4-kDCP0Bor0', 'thumbnail': 'https://i.ytimg.com/vi/4-kDCP0Bor0/hqdefault.jpg?sqp=-oaymwEcCPYBEIoBSFXyq4qpAw4IARUAAIhCGAFwAcABBg==&rs=AOn4CLDtsPugct4nLg7CmJqF3eROw_3rRA'}\n",
      "{'videoTitle': 'How To Learn Data Science by Self Study and For Free', 'totalViews': '502K views', 'videoURL': 'https://www.youtube.com/watch?v=AuqZ4recf0s', 'thumbnail': 'https://i.ytimg.com/vi/AuqZ4recf0s/hqdefault.jpg?sqp=-oaymwEcCPYBEIoBSFXyq4qpAw4IARUAAIhCGAFwAcABBg==&rs=AOn4CLAJsUM9HXUciDJStErXSAgUwcn3Nw'}\n",
      "{'videoTitle': 'Live- Implementation of End To End Kaggle Machine Learning Project With Deployment', 'totalViews': '502K views', 'videoURL': 'https://www.youtube.com/watch?v=p_tpQSY1aTs', 'thumbnail': 'https://i.ytimg.com/vi/p_tpQSY1aTs/hqdefault.jpg?sqp=-oaymwEcCPYBEIoBSFXyq4qpAw4IARUAAIhCGAFwAcABBg==&rs=AOn4CLDj6LihCi84SRJrREJu0L1Y6Ggtag'}\n",
      "{'videoTitle': 'Complete Roadmap For Becoming A Blockchain Developer In 2022', 'totalViews': '445K views', 'videoURL': 'https://www.youtube.com/watch?v=djgtWqkZE84', 'thumbnail': 'https://i.ytimg.com/vi/djgtWqkZE84/hqdefault.jpg?sqp=-oaymwEcCPYBEIoBSFXyq4qpAw4IARUAAIhCGAFwAcABBg==&rs=AOn4CLBSimFy-SXhQb4Mg3ORWQUXqDqImQ'}\n",
      "{'videoTitle': 'Learning Data Science In 2022- Step By Step Plan', 'totalViews': '429K views', 'videoURL': 'https://www.youtube.com/watch?v=C9eZclkoWSs', 'thumbnail': 'https://i.ytimg.com/vi/C9eZclkoWSs/hqdefault.jpg?sqp=-oaymwEcCPYBEIoBSFXyq4qpAw4IARUAAIhCGAFwAcABBg==&rs=AOn4CLB9we1UklnpIIj9onmcOF_ags0Law'}\n",
      "{'videoTitle': 'RoadMap With Minimal Skills To Become Data Analyst In 2022', 'totalViews': '392K views', 'videoURL': 'https://www.youtube.com/watch?v=lzP14izI4lQ', 'thumbnail': 'https://i.ytimg.com/vi/lzP14izI4lQ/hqdefault.jpg?sqp=-oaymwEcCPYBEIoBSFXyq4qpAw4IARUAAIhCGAFwAcABBg==&rs=AOn4CLB9hjDWxDk7_IYmnIjKGaB1ZlOObA'}\n",
      "{'videoTitle': '6 Certifications In Data Science But No Jobs- Sharing A True Story-Focus More On Data Science Jobs', 'totalViews': '386K views', 'videoURL': 'https://www.youtube.com/watch?v=Q6GfF8fB7E4', 'thumbnail': 'https://i.ytimg.com/vi/Q6GfF8fB7E4/hqdefault.jpg?sqp=-oaymwEcCPYBEIoBSFXyq4qpAw4IARUAAIhCGAFwAcABBg==&rs=AOn4CLDkNGggtj5VZUiiBAuZv3gk9_ESsA'}\n",
      "{'videoTitle': 'Tutorial 32- All About P Value,T test,Chi Square Test, Anova Test  and When  to Use What?', 'totalViews': '370K views', 'videoURL': 'https://www.youtube.com/watch?v=YrhlQB3mQFI', 'thumbnail': None}\n",
      "{'videoTitle': 'My Salary As A Data Scientist From Starting Of My Career', 'totalViews': '356K views', 'videoURL': 'https://www.youtube.com/watch?v=dqGDeulDOKQ', 'thumbnail': None}\n",
      "{'videoTitle': 'Live Day 1- Introduction To Machine Learning Algorithms For Data Science', 'totalViews': '353K views', 'videoURL': 'https://www.youtube.com/watch?v=4UJelID_ICw', 'thumbnail': None}\n",
      "{'videoTitle': '7 Days Plan To Learn Statistics For Data Analyst And Data Scientist', 'totalViews': '346K views', 'videoURL': 'https://www.youtube.com/watch?v=TUn-prncFfU', 'thumbnail': None}\n",
      "{'videoTitle': 'Stock Price Prediction And Forecasting Using Stacked LSTM- Deep Learning', 'totalViews': '331K views', 'videoURL': 'https://www.youtube.com/watch?v=H6du_pfuznE', 'thumbnail': None}\n",
      "{'videoTitle': 'How Did I Learn Machine Learning in 3 Months', 'totalViews': '327K views', 'videoURL': 'https://www.youtube.com/watch?v=uoifG7TgF2k', 'thumbnail': None}\n",
      "{'videoTitle': 'Tutorial 1- Anaconda Installation and Python Basics', 'totalViews': '322K views', 'videoURL': 'https://www.youtube.com/watch?v=7S865QCGL74', 'thumbnail': None}\n",
      "{'videoTitle': 'Live Day 1- Introduction To statistics In Data Science', 'totalViews': '308K views', 'videoURL': 'https://www.youtube.com/watch?v=11unm2hmvOQ', 'thumbnail': None}\n",
      "{'videoTitle': 'Tutorial 1- Introduction to Neural Network and Deep Learning', 'totalViews': '267K views', 'videoURL': 'https://www.youtube.com/watch?v=DKSZHN7jftI', 'thumbnail': None}\n",
      "{'videoTitle': 'Tutorial 43-Random Forest Classifier and Regressor', 'totalViews': '263K views', 'videoURL': 'https://www.youtube.com/watch?v=nxFG5xdpDto', 'thumbnail': None}\n",
      "{'videoTitle': 'Interview Prep Day 1-How To Learn Machine Learning Algorithms For Interviews- Naive Bayes Classifier', 'totalViews': '257K views', 'videoURL': 'https://www.youtube.com/watch?v=mlumJPFvooQ', 'thumbnail': None}\n",
      "{'videoTitle': 'Online Courses for Data Science Specialization', 'totalViews': '255K views', 'videoURL': 'https://www.youtube.com/watch?v=_XbttSk3ALs', 'thumbnail': None}\n",
      "{'videoTitle': 'Support Vector Machine (SVM) Basic Intuition- Part 1| Machine Learning', 'totalViews': '254K views', 'videoURL': 'https://www.youtube.com/watch?v=H9yACitf-KM', 'thumbnail': 'https://i.ytimg.com/vi/H9yACitf-KM/hqdefault.jpg?sqp=-oaymwEcCPYBEIoBSFXyq4qpAw4IARUAAIhCGAFwAcABBg==&rs=AOn4CLCzn6wlPxs9DhqbsEs2H4pi72ldqA'}\n",
      "{'videoTitle': 'Complete Roadmap To Follow To  Prepare Machine Learning With All Videos And Materials', 'totalViews': '245K views', 'videoURL': 'https://www.youtube.com/watch?v=VOpETRQGXy0', 'thumbnail': 'https://i.ytimg.com/vi/VOpETRQGXy0/hqdefault.jpg?sqp=-oaymwEcCPYBEIoBSFXyq4qpAw4IARUAAIhCGAFwAcABBg==&rs=AOn4CLD1T9XLp1kUf2uNcswTp0e2TyvGlw'}\n",
      "{'videoTitle': 'Step By Step Action Plan For Learning Data Science in 2020', 'totalViews': '244K views', 'videoURL': 'https://www.youtube.com/watch?v=lP1hb4BFAWA', 'thumbnail': 'https://i.ytimg.com/vi/lP1hb4BFAWA/hqdefault.jpg?sqp=-oaymwEcCPYBEIoBSFXyq4qpAw4IARUAAIhCGAFwAcABBg==&rs=AOn4CLAvcBzSNlEcPe4fHi6_pBeXFZKOxQ'}\n",
      "{'videoTitle': 'AI In Hardware', 'totalViews': '229K views', 'videoURL': 'https://www.youtube.com/watch?v=1DL6w0EUQNs', 'thumbnail': 'https://i.ytimg.com/vi/1DL6w0EUQNs/hqdefault.jpg?sqp=-oaymwEcCPYBEIoBSFXyq4qpAw4IARUAAIhCGAFwAcABBg==&rs=AOn4CLDUoHX6f1SKw66tSJAPRV_6-j-1ug'}\n",
      "{'videoTitle': 'Tutorial 26- Linear Regression Indepth Maths Intuition- Data Science', 'totalViews': '229K views', 'videoURL': 'https://www.youtube.com/watch?v=1-OGRohmH2s', 'thumbnail': 'https://i.ytimg.com/vi/1-OGRohmH2s/hqdefault.jpg?sqp=-oaymwEcCPYBEIoBSFXyq4qpAw4IARUAAIhCGAFwAcABBg==&rs=AOn4CLBa6PPcf7aXVNrUhw1GzcFKKGaxlA'}\n",
      "{'videoTitle': \"Tutorial 48- Naive Bayes' Classifier Indepth Intuition-  Machine Learning\", 'totalViews': '213K views', 'videoURL': 'https://www.youtube.com/watch?v=jS1CKhALUBQ', 'thumbnail': 'https://i.ytimg.com/vi/jS1CKhALUBQ/hqdefault.jpg?sqp=-oaymwEcCPYBEIoBSFXyq4qpAw4IARUAAIhCGAFwAcABBg==&rs=AOn4CLCzfQ2X3IHYh-1PH_KrRAkUPwNR2w'}\n",
      "{'videoTitle': 'Kaggle Competition - House Prices: Advanced Regression Techniques Part1', 'totalViews': '213K views', 'videoURL': 'https://www.youtube.com/watch?v=vtm35gVP8JU', 'thumbnail': 'https://i.ytimg.com/vi/vtm35gVP8JU/hqdefault.jpg?sqp=-oaymwEcCPYBEIoBSFXyq4qpAw4IARUAAIhCGAFwAcABBg==&rs=AOn4CLDt4Rn2gwQPl8V2s17GpSo9lYbjbA'}\n",
      "{'videoTitle': 'Tutorial 22-Univariate, Bivariate and Multivariate Analysis- Part1 (EDA)-Data Science', 'totalViews': '213K views', 'videoURL': 'https://www.youtube.com/watch?v=JG8GRlMjp3c', 'thumbnail': 'https://i.ytimg.com/vi/JG8GRlMjp3c/hqdefault.jpg?sqp=-oaymwEcCPYBEIoBSFXyq4qpAw4IARUAAIhCGAFwAcABBg==&rs=AOn4CLDAfGU3Yxl-V2NwbLgBpurzb5eLWw'}\n",
      "{'videoTitle': 'Tutorial 11-Exploratory Data Analysis(EDA) of Titanic dataset', 'totalViews': '211K views', 'videoURL': 'https://www.youtube.com/watch?v=Ea_KAcdv1vs', 'thumbnail': 'https://i.ytimg.com/vi/Ea_KAcdv1vs/hqdefault.jpg?sqp=-oaymwEcCPYBEIoBSFXyq4qpAw4IARUAAIhCGAFwAcABBg==&rs=AOn4CLDOnhfWeDi6W_oq4QCHIAicmDNNvw'}\n",
      "{'videoTitle': 'Deploy Machine Learning Model using Flask', 'totalViews': '211K views', 'videoURL': 'https://www.youtube.com/watch?v=UbCWoMf80PY', 'thumbnail': 'https://i.ytimg.com/vi/UbCWoMf80PY/hqdefault.jpg?sqp=-oaymwEcCPYBEIoBSFXyq4qpAw4IARUAAIhCGAFwAcABBg==&rs=AOn4CLDSjZ9A7Qkkzh5_IQqC66Brt1EbFg'}\n",
      "{'videoTitle': \"Tutorial 47- Bayes' Theorem| Conditional Probability- Machine Learning\", 'totalViews': '210K views', 'videoURL': 'https://www.youtube.com/watch?v=71oNiqPoKD8', 'thumbnail': 'https://i.ytimg.com/vi/71oNiqPoKD8/hqdefault.jpg?sqp=-oaymwEcCPYBEIoBSFXyq4qpAw4IARUAAIhCGAFwAcABBg==&rs=AOn4CLANom5EQ77gCk_uLKoeBfB3JzyARQ'}\n",
      "{'videoTitle': 'How to Learn Statistics for Data Science As A Self Starter- Follow My Way', 'totalViews': '207K views', 'videoURL': 'https://www.youtube.com/watch?v=zRUliXuwJCQ', 'thumbnail': 'https://i.ytimg.com/vi/zRUliXuwJCQ/hqdefault.jpg?sqp=-oaymwEcCPYBEIoBSFXyq4qpAw4IARUAAIhCGAFwAcABBg==&rs=AOn4CLDKSCSEgdzvspStpESjq6MbI8vsPQ'}\n",
      "{'videoTitle': 'Tutorial 31- Hypothesis Test, Type 1 Error, Type 2 Error', 'totalViews': '203K views', 'videoURL': 'https://www.youtube.com/watch?v=Y3QzLIBp64M', 'thumbnail': 'https://i.ytimg.com/vi/Y3QzLIBp64M/hqdefault.jpg?sqp=-oaymwEcCPYBEIoBSFXyq4qpAw4IARUAAIhCGAFwAcABBg==&rs=AOn4CLCJjSxoM8Tyt1gNEUdxc9v2vos1Ng'}\n",
      "{'videoTitle': 'Tutorial 27- Ridge and Lasso Regression Indepth Intuition- Data Science', 'totalViews': '203K views', 'videoURL': 'https://www.youtube.com/watch?v=9lRv01HDU0s', 'thumbnail': 'https://i.ytimg.com/vi/9lRv01HDU0s/hqdefault.jpg?sqp=-oaymwEcCPYBEIoBSFXyq4qpAw4IARUAAIhCGAFwAcABBg==&rs=AOn4CLBfe984QGgwFGWlKzGrJ7JZeQhUsw'}\n",
      "{'videoTitle': 'What is AdaBoost (BOOSTING TECHNIQUES)', 'totalViews': '202K views', 'videoURL': 'https://www.youtube.com/watch?v=NLRO1-jp5F8', 'thumbnail': 'https://i.ytimg.com/vi/NLRO1-jp5F8/hqdefault.jpg?sqp=-oaymwEcCPYBEIoBSFXyq4qpAw4IARUAAIhCGAFwAcABBg==&rs=AOn4CLAo8RT394bcucIwPVlgJHE-k8QnTg'}\n",
      "{'videoTitle': 'Standardization Vs Normalization- Feature Scaling', 'totalViews': '199K views', 'videoURL': 'https://www.youtube.com/watch?v=mnKm3YP56PY', 'thumbnail': 'https://i.ytimg.com/vi/mnKm3YP56PY/hqdefault.jpg?sqp=-oaymwEcCPYBEIoBSFXyq4qpAw4IARUAAIhCGAFwAcABBg==&rs=AOn4CLCTT0QEiRCvoOf31gt4nioOJWwtHQ'}\n",
      "{'videoTitle': 'Complete Road Map To Prepare For Deep Learning🔥🔥🔥🔥', 'totalViews': '197K views', 'videoURL': 'https://www.youtube.com/watch?v=9jA0KjS7V_c', 'thumbnail': None}\n",
      "{'videoTitle': 'Tutorial 2 - Python List  and Boolean Variables', 'totalViews': '194K views', 'videoURL': 'https://www.youtube.com/watch?v=GA0u6WM7_Eo', 'thumbnail': None}\n",
      "{'videoTitle': 'Tutorial 37: Entropy In Decision Tree Intuition', 'totalViews': '191K views', 'videoURL': 'https://www.youtube.com/watch?v=1IQOtJ4NI_0', 'thumbnail': None}\n",
      "{'videoTitle': 'Live Virtual Mock Interview Of Statistician IIT Kanpur For Data Science', 'totalViews': '190K views', 'videoURL': 'https://www.youtube.com/watch?v=9iidtytk5gs', 'thumbnail': None}\n",
      "{'videoTitle': 'Tutorial 42 - Ensemble: What is Bagging (Bootstrap Aggregation)?', 'totalViews': '190K views', 'videoURL': 'https://www.youtube.com/watch?v=KIOeZ5cFZ50', 'thumbnail': None}\n",
      "{'videoTitle': 'K Nearest Neighbour Easily Explained with Implementation', 'totalViews': '184K views', 'videoURL': 'https://www.youtube.com/watch?v=wTF6vzS9fy4', 'thumbnail': None}\n",
      "{'videoTitle': 'Tutorial 4 - Numpy and Inbuilt Functions Tutorial', 'totalViews': '183K views', 'videoURL': 'https://www.youtube.com/watch?v=vh525RjO6C0', 'thumbnail': None}\n",
      "{'videoTitle': 'Machine Learning-Bias And Variance In Depth Intuition| Overfitting Underfitting', 'totalViews': '182K views', 'videoURL': 'https://www.youtube.com/watch?v=BqzgUnrNhFM', 'thumbnail': None}\n",
      "{'videoTitle': '60 Python Projects With Source Code- Solved And Explained', 'totalViews': '181K views', 'videoURL': 'https://www.youtube.com/watch?v=K22hmfeUx2w', 'thumbnail': None}\n",
      "{'videoTitle': 'Advance House Price Prediction- Exploratory Data Analysis- Part 1', 'totalViews': '180K views', 'videoURL': 'https://www.youtube.com/watch?v=ioN1jcWxbv8', 'thumbnail': None}\n",
      "{'videoTitle': 'Feature Engineering-How to Perform One Hot Encoding for Multi Categorical Variables', 'totalViews': '178K views', 'videoURL': 'https://www.youtube.com/watch?v=6WDFfaYtN6s', 'thumbnail': None}\n",
      "{'videoTitle': 'Tutorial 35- Logistic Regression Indepth Intuition- Part 1| Data Science', 'totalViews': '177K views', 'videoURL': 'https://www.youtube.com/watch?v=L_xBe7MbPwk', 'thumbnail': None}\n",
      "{'videoTitle': 'How to Read Dataset in Google Colab from Google Drive', 'totalViews': '173K views', 'videoURL': 'https://www.youtube.com/watch?v=Gvwuyx_F-28', 'thumbnail': None}\n",
      "{'videoTitle': 'Tutorial 34- Performance Metrics For Classification Problem In Machine Learning- Part1', 'totalViews': '172K views', 'videoURL': 'https://www.youtube.com/watch?v=aWAnNHXIKww', 'thumbnail': None}\n",
      "{'videoTitle': 'Salary Of Data Scientist In India And US In 2020', 'totalViews': '171K views', 'videoURL': 'https://www.youtube.com/watch?v=Dt89dX0c7Cw', 'thumbnail': None}\n",
      "{'videoTitle': 'Forecasting Future Sales Using ARIMA and SARIMAX', 'totalViews': '170K views', 'videoURL': 'https://www.youtube.com/watch?v=2XGSIlgUBDI', 'thumbnail': None}\n",
      "{'videoTitle': 'Data Engineer vs Data Analyst vs Data Scientist', 'totalViews': '170K views', 'videoURL': 'https://www.youtube.com/watch?v=017B07EHe2M', 'thumbnail': None}\n",
      "{'videoTitle': 'Statistics- What is Pearson Correlation Coefficient? Difference between Correlation and Covariance', 'totalViews': '169K views', 'videoURL': 'https://www.youtube.com/watch?v=6fUYt1alA1U', 'thumbnail': None}\n",
      "{'videoTitle': 'How To Train Deep Learning Models In Google Colab- Must For Everyone', 'totalViews': '167K views', 'videoURL': 'https://www.youtube.com/watch?v=chQNuV9B-Rw', 'thumbnail': None}\n",
      "{'videoTitle': 'History Of Machine Learning- Dicussing The Entire Timeline', 'totalViews': '180K views', 'videoURL': 'https://www.youtube.com/watch?v=m_nQM_AkVfY', 'thumbnail': None}\n"
     ]
    }
   ],
   "source": [
    "i = 0\n",
    "j = 0\n",
    "for title in titles:\n",
    "    d = {\"videoTitle\":title.text,\"totalViews\":views[i].text,\"videoURL\":\"https://www.youtube.com\"+title.get('href'),\"thumbnail\":thumb_list[j]}\n",
    "    print(d)\n",
    "    channel_details.append(d)\n",
    "    i +=2\n",
    "    j +=1"
   ]
  },
  {
   "cell_type": "code",
   "execution_count": null,
   "metadata": {},
   "outputs": [],
   "source": []
  }
 ],
 "metadata": {
  "kernelspec": {
   "display_name": "Python 3.10.6 ('.env': venv)",
   "language": "python",
   "name": "python3"
  },
  "language_info": {
   "codemirror_mode": {
    "name": "ipython",
    "version": 3
   },
   "file_extension": ".py",
   "mimetype": "text/x-python",
   "name": "python",
   "nbconvert_exporter": "python",
   "pygments_lexer": "ipython3",
   "version": "3.10.6"
  },
  "vscode": {
   "interpreter": {
    "hash": "c3bcee02512a63e35babf2989ec7eedc87e5baba6835f0d68b8464cc09b93d2d"
   }
  }
 },
 "nbformat": 4,
 "nbformat_minor": 4
}
